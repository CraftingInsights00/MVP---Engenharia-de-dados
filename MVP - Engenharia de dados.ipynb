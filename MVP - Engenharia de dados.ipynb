{
 "cells": [
  {
   "cell_type": "code",
   "execution_count": 0,
   "metadata": {
    "application/vnd.databricks.v1+cell": {
     "cellMetadata": {
      "byteLimit": 2048000,
      "rowLimit": 10000
     },
     "inputWidgets": {},
     "nuid": "b7bca6c0-67ca-4712-8927-0ee75aa78426",
     "showTitle": false,
     "tableResultSettingsMap": {},
     "title": ""
    }
   },
   "outputs": [
    {
     "output_type": "stream",
     "name": "stdout",
     "output_type": "stream",
     "text": [
      "+--------------------+--------------------+------------------------+--------------------+--------------+\n|         customer_id|  customer_unique_id|customer_zip_code_prefix|       customer_city|customer_state|\n+--------------------+--------------------+------------------------+--------------------+--------------+\n|06b8999e2fba1a1fb...|861eff4711a542e4b...|                   14409|              franca|            SP|\n|18955e83d337fd6b2...|290c77bc529b7ac93...|                    9790|sao bernardo do c...|            SP|\n|4e7b3e00288586ebd...|060e732b5b29e8181...|                    1151|           sao paulo|            SP|\n|b2b6027bc5c5109e5...|259dac757896d24d7...|                    8775|     mogi das cruzes|            SP|\n|4f2d8ab171c80ec83...|345ecd01c38d18a90...|                   13056|            campinas|            SP|\n+--------------------+--------------------+------------------------+--------------------+--------------+\nonly showing top 5 rows\n\n+---------------------------+-------------------+------------------+----------------+-----------------+\n|geolocation_zip_code_prefix|    geolocation_lat|   geolocation_lng|geolocation_city|geolocation_state|\n+---------------------------+-------------------+------------------+----------------+-----------------+\n|                       1037| -23.54562128115268|-46.63929204800168|       sao paulo|               SP|\n|                       1046|-23.546081127035535|-46.64482029837157|       sao paulo|               SP|\n|                       1046| -23.54612896641469|-46.64295148361138|       sao paulo|               SP|\n|                       1041|  -23.5443921648681|-46.63949930627844|       sao paulo|               SP|\n|                       1035|-23.541577961711493|-46.64160722329613|       sao paulo|               SP|\n+---------------------------+-------------------+------------------+----------------+-----------------+\nonly showing top 5 rows\n\n+--------------------+-------------+--------------------+--------------------+-------------------+-----+-------------+\n|            order_id|order_item_id|          product_id|           seller_id|shipping_limit_date|price|freight_value|\n+--------------------+-------------+--------------------+--------------------+-------------------+-----+-------------+\n|00010242fe8c5a6d1...|            1|4244733e06e7ecb49...|48436dade18ac8b2b...|2017-09-19 09:45:35| 58.9|        13.29|\n|00018f77f2f0320c5...|            1|e5f2d52b802189ee6...|dd7ddc04e1b6c2c61...|2017-05-03 11:05:13|239.9|        19.93|\n|000229ec398224ef6...|            1|c777355d18b72b67a...|5b51032eddd242adc...|2018-01-18 14:48:30|199.0|        17.87|\n|00024acbcdf0a6daa...|            1|7634da152a4610f15...|9d7a1d34a50524090...|2018-08-15 10:10:18|12.99|        12.79|\n|00042b26cf59d7ce6...|            1|ac6c3623068f30de0...|df560393f3a51e745...|2017-02-13 13:57:51|199.9|        18.14|\n+--------------------+-------------+--------------------+--------------------+-------------------+-----+-------------+\nonly showing top 5 rows\n\n+--------------------+------------------+------------+--------------------+-------------+\n|            order_id|payment_sequential|payment_type|payment_installments|payment_value|\n+--------------------+------------------+------------+--------------------+-------------+\n|b81ef226f3fe1789b...|                 1| credit_card|                   8|        99.33|\n|a9810da82917af2d9...|                 1| credit_card|                   1|        24.39|\n|25e8ea4e93396b6fa...|                 1| credit_card|                   1|        65.71|\n|ba78997921bbcdc13...|                 1| credit_card|                   8|       107.78|\n|42fdf880ba16b47b5...|                 1| credit_card|                   2|       128.45|\n+--------------------+------------------+------------+--------------------+-------------+\nonly showing top 5 rows\n\n+--------------------+--------------------+------------+--------------------+----------------------+--------------------+-----------------------+\n|           review_id|            order_id|review_score|review_comment_title|review_comment_message|review_creation_date|review_answer_timestamp|\n+--------------------+--------------------+------------+--------------------+----------------------+--------------------+-----------------------+\n|7bc2406110b926393...|73fc7af87114b3971...|           4|                null|                  null| 2018-01-18 00:00:00|    2018-01-18 21:46:59|\n|80e641a11e56f04c1...|a548910a1c6147796...|           5|                null|                  null| 2018-03-10 00:00:00|    2018-03-11 03:05:13|\n|228ce5500dc1d8e02...|f9e4b658b201a9f2e...|           5|                null|                  null| 2018-02-17 00:00:00|    2018-02-18 14:36:24|\n|e64fb393e7b32834b...|658677c97b385a9be...|           5|                null|  Recebi bem antes ...| 2017-04-21 00:00:00|    2017-04-21 22:02:06|\n|f7c4243c7fe1938f1...|8e6bfb81e283fa7e4...|           5|                null|  Parabéns lojas la...| 2018-03-01 00:00:00|    2018-03-02 10:26:53|\n+--------------------+--------------------+------------+--------------------+----------------------+--------------------+-----------------------+\nonly showing top 5 rows\n\n+--------------------+--------------------+------------+------------------------+-------------------+----------------------------+-----------------------------+-----------------------------+\n|            order_id|         customer_id|order_status|order_purchase_timestamp|  order_approved_at|order_delivered_carrier_date|order_delivered_customer_date|order_estimated_delivery_date|\n+--------------------+--------------------+------------+------------------------+-------------------+----------------------------+-----------------------------+-----------------------------+\n|e481f51cbdc54678b...|9ef432eb625129730...|   delivered|     2017-10-02 10:56:33|2017-10-02 11:07:15|         2017-10-04 19:55:00|          2017-10-10 21:25:13|          2017-10-18 00:00:00|\n|53cdb2fc8bc7dce0b...|b0830fb4747a6c6d2...|   delivered|     2018-07-24 20:41:37|2018-07-26 03:24:27|         2018-07-26 14:31:00|          2018-08-07 15:27:45|          2018-08-13 00:00:00|\n|47770eb9100c2d0c4...|41ce2a54c0b03bf34...|   delivered|     2018-08-08 08:38:49|2018-08-08 08:55:23|         2018-08-08 13:50:00|          2018-08-17 18:06:29|          2018-09-04 00:00:00|\n|949d5b44dbf5de918...|f88197465ea7920ad...|   delivered|     2017-11-18 19:28:06|2017-11-18 19:45:59|         2017-11-22 13:39:59|          2017-12-02 00:28:42|          2017-12-15 00:00:00|\n|ad21c59c0840e6cb8...|8ab97904e6daea886...|   delivered|     2018-02-13 21:18:39|2018-02-13 22:20:29|         2018-02-14 19:46:34|          2018-02-16 18:17:02|          2018-02-26 00:00:00|\n+--------------------+--------------------+------------+------------------------+-------------------+----------------------------+-----------------------------+-----------------------------+\nonly showing top 5 rows\n\n+--------------------+---------------------+-------------------+--------------------------+------------------+----------------+-----------------+-----------------+----------------+\n|          product_id|product_category_name|product_name_lenght|product_description_lenght|product_photos_qty|product_weight_g|product_length_cm|product_height_cm|product_width_cm|\n+--------------------+---------------------+-------------------+--------------------------+------------------+----------------+-----------------+-----------------+----------------+\n|1e9e8ef04dbcff454...|           perfumaria|                 40|                       287|                 1|             225|               16|               10|              14|\n|3aa071139cb16b67c...|                artes|                 44|                       276|                 1|            1000|               30|               18|              20|\n|96bd76ec8810374ed...|        esporte_lazer|                 46|                       250|                 1|             154|               18|                9|              15|\n|cef67bcfe19066a93...|                bebes|                 27|                       261|                 1|             371|               26|                4|              26|\n|9dc1a7de274444849...| utilidades_domest...|                 37|                       402|                 4|             625|               20|               17|              13|\n+--------------------+---------------------+-------------------+--------------------------+------------------+----------------+-----------------+-----------------+----------------+\nonly showing top 5 rows\n\n+--------------------+----------------------+-----------------+------------+\n|           seller_id|seller_zip_code_prefix|      seller_city|seller_state|\n+--------------------+----------------------+-----------------+------------+\n|3442f8959a84dea7e...|                 13023|         campinas|          SP|\n|d1b65fc7debc3361e...|                 13844|       mogi guacu|          SP|\n|ce3ad9de960102d06...|                 20031|   rio de janeiro|          RJ|\n|c0f3eea2e14555b6f...|                  4195|        sao paulo|          SP|\n|51a04a8a6bdcb23de...|                 12914|braganca paulista|          SP|\n+--------------------+----------------------+-----------------+------------+\nonly showing top 5 rows\n\n+---------------------+-----------------------------+\n|product_category_name|product_category_name_english|\n+---------------------+-----------------------------+\n|         beleza_saude|                health_beauty|\n| informatica_acess...|         computers_accesso...|\n|           automotivo|                         auto|\n|      cama_mesa_banho|               bed_bath_table|\n|     moveis_decoracao|              furniture_decor|\n+---------------------+-----------------------------+\nonly showing top 5 rows\n\n"
     ]
    }
   ],
   "source": [
    "# Carregar dados brutos (Camada Bronze)\n",
    "df_customers_bronze = spark.read.csv(\"/FileStore/tables/olist_customers_dataset.csv\", header=True, inferSchema=True)\n",
    "df_geolocation_bronze = spark.read.csv(\"/FileStore/tables/olist_geolocation_dataset.csv\", header=True, inferSchema=True)\n",
    "df_order_items_bronze = spark.read.csv(\"/FileStore/tables/olist_order_items_dataset.csv\", header=True, inferSchema=True)\n",
    "df_order_payments_bronze = spark.read.csv(\"/FileStore/tables/olist_order_payments_dataset.csv\", header=True, inferSchema=True)\n",
    "df_order_reviews_bronze = spark.read.csv(\"/FileStore/tables/olist_order_reviews_dataset.csv\", header=True, inferSchema=True)\n",
    "df_orders_bronze = spark.read.csv(\"/FileStore/tables/olist_orders_dataset.csv\", header=True, inferSchema=True)\n",
    "df_products_bronze = spark.read.csv(\"/FileStore/tables/olist_products_dataset.csv\", header=True, inferSchema=True)\n",
    "df_sellers_bronze = spark.read.csv(\"/FileStore/tables/olist_sellers_dataset.csv\", header=True, inferSchema=True)\n",
    "df_product_category_translation_bronze = spark.read.csv(\"/FileStore/tables/product_category_name_translation.csv\", header=True, inferSchema=True)\n",
    "\n",
    "# Visualizar os dados brutos\n",
    "df_customers_bronze.show(5)\n",
    "df_geolocation_bronze.show(5)\n",
    "df_order_items_bronze.show(5)\n",
    "df_order_payments_bronze.show(5)\n",
    "df_order_reviews_bronze.show(5)\n",
    "df_orders_bronze.show(5)\n",
    "df_products_bronze.show(5)\n",
    "df_sellers_bronze.show(5)\n",
    "df_product_category_translation_bronze.show(5)\n",
    "\n",
    "# Salvar dados brutos no formato Delta (Camada Bronze)\n",
    "df_customers_bronze.write.format(\"delta\").mode(\"overwrite\").save(\"/mnt/bronze/olist_customers_dataset\")\n",
    "df_geolocation_bronze.write.format(\"delta\").mode(\"overwrite\").save(\"/mnt/bronze/olist_geolocation_dataset\")\n",
    "df_order_items_bronze.write.format(\"delta\").mode(\"overwrite\").save(\"/mnt/bronze/olist_order_items_dataset\")\n",
    "df_order_payments_bronze.write.format(\"delta\").mode(\"overwrite\").save(\"/mnt/bronze/olist_order_payments_dataset\")\n",
    "df_order_reviews_bronze.write.format(\"delta\").mode(\"overwrite\").save(\"/mnt/bronze/olist_order_reviews_dataset\")\n",
    "df_orders_bronze.write.format(\"delta\").mode(\"overwrite\").save(\"/mnt/bronze/olist_orders_dataset\")\n",
    "df_products_bronze.write.format(\"delta\").mode(\"overwrite\").save(\"/mnt/bronze/olist_products_dataset\")\n",
    "df_sellers_bronze.write.format(\"delta\").mode(\"overwrite\").save(\"/mnt/bronze/olist_sellers_dataset\")\n",
    "df_product_category_translation_bronze.write.format(\"delta\").mode(\"overwrite\").save(\"/mnt/bronze/product_category_name_translation\")\n"
   ]
  },
  {
   "cell_type": "code",
   "execution_count": 0,
   "metadata": {
    "application/vnd.databricks.v1+cell": {
     "cellMetadata": {
      "byteLimit": 2048000,
      "rowLimit": 10000
     },
     "inputWidgets": {},
     "nuid": "74749a5b-aa73-48ab-bfca-9daa62fb5c7f",
     "showTitle": false,
     "tableResultSettingsMap": {},
     "title": ""
    }
   },
   "outputs": [
    {
     "output_type": "stream",
     "name": "stdout",
     "output_type": "stream",
     "text": [
      "+--------------------+--------------------+------------------------+--------------------+--------------+---------------+\n|         customer_id|  customer_unique_id|customer_zip_code_prefix|       customer_city|customer_state|customer_region|\n+--------------------+--------------------+------------------------+--------------------+--------------+---------------+\n|06b8999e2fba1a1fb...|861eff4711a542e4b...|                   14409|              franca|            SP|        Sudeste|\n|18955e83d337fd6b2...|290c77bc529b7ac93...|                    9790|sao bernardo do c...|            SP|        Sudeste|\n|4e7b3e00288586ebd...|060e732b5b29e8181...|                    1151|           sao paulo|            SP|        Sudeste|\n|b2b6027bc5c5109e5...|259dac757896d24d7...|                    8775|     mogi das cruzes|            SP|        Sudeste|\n|4f2d8ab171c80ec83...|345ecd01c38d18a90...|                   13056|            campinas|            SP|        Sudeste|\n+--------------------+--------------------+------------------------+--------------------+--------------+---------------+\nonly showing top 5 rows\n\n"
     ]
    }
   ],
   "source": [
    "# Carregar dados da camada Bronze (Camada Silver)\n",
    "df_customers_silver = spark.read.format(\"delta\").load(\"/mnt/bronze/olist_customers_dataset\")\n",
    "df_geolocation_silver = spark.read.format(\"delta\").load(\"/mnt/bronze/olist_geolocation_dataset\")\n",
    "df_order_items_silver = spark.read.format(\"delta\").load(\"/mnt/bronze/olist_order_items_dataset\")\n",
    "df_order_payments_silver = spark.read.format(\"delta\").load(\"/mnt/bronze/olist_order_payments_dataset\")\n",
    "df_order_reviews_silver = spark.read.format(\"delta\").load(\"/mnt/bronze/olist_order_reviews_dataset\")\n",
    "df_orders_silver = spark.read.format(\"delta\").load(\"/mnt/bronze/olist_orders_dataset\")\n",
    "df_products_silver = spark.read.format(\"delta\").load(\"/mnt/bronze/olist_products_dataset\")\n",
    "df_sellers_silver = spark.read.format(\"delta\").load(\"/mnt/bronze/olist_sellers_dataset\")\n",
    "df_product_category_translation_silver = spark.read.format(\"delta\").load(\"/mnt/bronze/product_category_name_translation\")\n",
    "\n",
    "# Adicionar coluna de região ao df_customers (Camada Silver)\n",
    "from pyspark.sql.functions import when\n",
    "df_customers_silver = df_customers_silver.withColumn(\n",
    "    \"customer_region\",\n",
    "    when(df_customers_silver.customer_state.isin([\"AC\", \"AP\", \"AM\", \"PA\", \"RO\", \"RR\", \"TO\"]), \"Norte\")\n",
    "    .when(df_customers_silver.customer_state.isin([\"AL\", \"BA\", \"CE\", \"MA\", \"PB\", \"PE\", \"PI\", \"RN\", \"SE\"]), \"Nordeste\")\n",
    "    .when(df_customers_silver.customer_state.isin([\"DF\", \"GO\", \"MT\", \"MS\"]), \"Centro-Oeste\")\n",
    "    .when(df_customers_silver.customer_state.isin([\"ES\", \"MG\", \"RJ\", \"SP\"]), \"Sudeste\")\n",
    "    .when(df_customers_silver.customer_state.isin([\"PR\", \"RS\", \"SC\"]), \"Sul\")\n",
    "    .otherwise(\"Desconhecido\")\n",
    ")\n",
    "\n",
    "# Visualizar os dados tratados\n",
    "df_customers_silver.show(5)\n",
    "\n",
    "# Salvar dados tratados no formato Delta (Camada Silver)\n",
    "df_customers_silver.write.format(\"delta\").mode(\"overwrite\").save(\"/mnt/silver/olist_customers_dataset\")\n",
    "df_geolocation_silver.write.format(\"delta\").mode(\"overwrite\").save(\"/mnt/silver/olist_geolocation_dataset\")\n",
    "df_order_items_silver.write.format(\"delta\").mode(\"overwrite\").save(\"/mnt/silver/olist_order_items_dataset\")\n",
    "df_order_payments_silver.write.format(\"delta\").mode(\"overwrite\").save(\"/mnt/silver/olist_order_payments_dataset\")\n",
    "df_order_reviews_silver.write.format(\"delta\").mode(\"overwrite\").save(\"/mnt/silver/olist_order_reviews_dataset\")\n",
    "df_orders_silver.write.format(\"delta\").mode(\"overwrite\").save(\"/mnt/silver/olist_orders_dataset\")\n",
    "df_products_silver.write.format(\"delta\").mode(\"overwrite\").save(\"/mnt/silver/olist_products_dataset\")\n",
    "df_sellers_silver.write.format(\"delta\").mode(\"overwrite\").save(\"/mnt/silver/olist_sellers_dataset\")\n",
    "df_product_category_translation_silver.write.format(\"delta\").mode(\"overwrite\").save(\"/mnt/silver/product_category_name_translation\")\n"
   ]
  },
  {
   "cell_type": "code",
   "execution_count": 0,
   "metadata": {
    "application/vnd.databricks.v1+cell": {
     "cellMetadata": {
      "byteLimit": 2048000,
      "rowLimit": 10000
     },
     "inputWidgets": {},
     "nuid": "28f275a5-0ad4-4e00-9d88-a38ac7cf2cce",
     "showTitle": false,
     "tableResultSettingsMap": {},
     "title": ""
    }
   },
   "outputs": [
    {
     "output_type": "stream",
     "name": "stdout",
     "output_type": "stream",
     "text": [
      "+--------------------+--------------------+--------------------+--------------------+------------------------+------+-------------+-------------+------------+---------------+\n|            order_id|          product_id|         customer_id|           seller_id|order_purchase_timestamp| price|freight_value|payment_value|review_score|customer_region|\n+--------------------+--------------------+--------------------+--------------------+------------------------+------+-------------+-------------+------------+---------------+\n|8ac26cb701a7887cc...|4ebb87ba41ca44632...|e8d9522aec46a24f0...|7a67c85e85bb2ce85...|     2017-05-16 15:54:51|109.99|        18.02|       128.01|           5|   Centro-Oeste|\n|8ac2728285fd4228f...|8b90be4893a4277a9...|6b5e281c156324178...|004c9cd9d87a3c30c...|     2017-03-08 14:09:17|109.99|         8.27|       156.56|           5|        Sudeste|\n|8ac2728285fd4228f...|8b90be4893a4277a9...|6b5e281c156324178...|004c9cd9d87a3c30c...|     2017-03-08 14:09:17|109.99|         8.27|       495.78|           5|        Sudeste|\n|8ac2728285fd4228f...|fa94f25a73969e3a2...|6b5e281c156324178...|004c9cd9d87a3c30c...|     2017-03-08 14:09:17|109.99|        16.55|       156.56|           5|        Sudeste|\n|8ac2728285fd4228f...|fa94f25a73969e3a2...|6b5e281c156324178...|004c9cd9d87a3c30c...|     2017-03-08 14:09:17|109.99|        16.55|       495.78|           5|        Sudeste|\n+--------------------+--------------------+--------------------+--------------------+------------------------+------+-------------+-------------+------------+---------------+\nonly showing top 5 rows\n\n"
     ]
    }
   ],
   "source": [
    "# Carregar dados da camada Silver (Camada Gold)\n",
    "df_customers_gold = spark.read.format(\"delta\").load(\"/mnt/silver/olist_customers_dataset\")\n",
    "df_geolocation_gold = spark.read.format(\"delta\").load(\"/mnt/silver/olist_geolocation_dataset\")\n",
    "df_order_items_gold = spark.read.format(\"delta\").load(\"/mnt/silver/olist_order_items_dataset\")\n",
    "df_order_payments_gold = spark.read.format(\"delta\").load(\"/mnt/silver/olist_order_payments_dataset\")\n",
    "df_order_reviews_gold = spark.read.format(\"delta\").load(\"/mnt/silver/olist_order_reviews_dataset\")\n",
    "df_orders_gold = spark.read.format(\"delta\").load(\"/mnt/silver/olist_orders_dataset\")\n",
    "df_products_gold = spark.read.format(\"delta\").load(\"/mnt/silver/olist_products_dataset\")\n",
    "df_sellers_gold = spark.read.format(\"delta\").load(\"/mnt/silver/olist_sellers_dataset\")\n",
    "df_product_category_translation_gold = spark.read.format(\"delta\").load(\"/mnt/silver/product_category_name_translation\")\n",
    "\n",
    "# Criar tabela fato unindo as informações necessárias (Camada Gold)\n",
    "df_fato_vendas = df_order_items_gold.join(df_orders_gold, \"order_id\") \\\n",
    "                                    .join(df_order_payments_gold, \"order_id\") \\\n",
    "                                    .join(df_order_reviews_gold, \"order_id\", \"left\") \\\n",
    "                                    .join(df_customers_gold, \"customer_id\")\n",
    "\n",
    "# Selecionar e renomear colunas\n",
    "df_fato_vendas = df_fato_vendas.select(\n",
    "    \"order_id\",\n",
    "    \"product_id\",\n",
    "    \"customer_id\",\n",
    "    \"seller_id\",\n",
    "    \"order_purchase_timestamp\",\n",
    "    \"price\",\n",
    "    \"freight_value\",\n",
    "    \"payment_value\",\n",
    "    \"review_score\",\n",
    "    \"customer_region\"\n",
    ")\n",
    "\n",
    "# Visualizar os dados prontos para análise\n",
    "df_fato_vendas.show(5)\n",
    "\n",
    "# Salvar dados prontos para análise no formato Delta (Camada Gold)\n",
    "df_fato_vendas.write.format(\"delta\").mode(\"overwrite\").save(\"/mnt/gold/fato_vendas\")\n"
   ]
  },
  {
   "cell_type": "code",
   "execution_count": 0,
   "metadata": {
    "application/vnd.databricks.v1+cell": {
     "cellMetadata": {
      "byteLimit": 2048000,
      "rowLimit": 10000
     },
     "inputWidgets": {},
     "nuid": "e2198c73-1417-412d-af97-57d49486e8df",
     "showTitle": false,
     "tableResultSettingsMap": {},
     "title": ""
    }
   },
   "outputs": [
    {
     "output_type": "stream",
     "name": "stdout",
     "output_type": "stream",
     "text": [
      "+---------------+--------------------+------------+------------------+\n|customer_region|          product_id|total_vendas|     total_receita|\n+---------------+--------------------+------------+------------------+\n|        Sudeste|99a4788cb24856965...|         400| 35211.27999999995|\n|        Sudeste|aca2eb7d00ea1a7b8...|         377|26886.599999999973|\n|        Sudeste|422879e10f4668299...|         345|18874.700000000008|\n|        Sudeste|389d119b48cf3043d...|         267| 14630.99000000001|\n|        Sudeste|53759a2ecddad2bb8...|         259|14124.600000000011|\n|        Sudeste|368c6c730842d7801...|         254| 13691.20000000001|\n|        Sudeste|d1c427060a0f73f6b...|         247| 34470.90999999998|\n|        Sudeste|53b36df67ebb7c415...|         232| 27251.95999999999|\n|        Sudeste|154e7e31ebfa09220...|         184| 4138.160000000001|\n|        Sudeste|2b4609f8948be1887...|         180|15728.109999999982|\n+---------------+--------------------+------------+------------------+\n\n+----+---+--------------------+------------+\n| ano|mes|          product_id|total_vendas|\n+----+---+--------------------+------------+\n|2018|  1|aca2eb7d00ea1a7b8...|         124|\n|2018|  5|53b36df67ebb7c415...|         115|\n|2017| 11|422879e10f4668299...|          97|\n|2018|  5|aca2eb7d00ea1a7b8...|          92|\n|2018|  4|aca2eb7d00ea1a7b8...|          88|\n|2017| 11|389d119b48cf3043d...|          87|\n|2018|  4|53b36df67ebb7c415...|          86|\n|2017| 11|53759a2ecddad2bb8...|          86|\n|2018|  1|54d9ac713e253fa1f...|          78|\n|2018|  8|e7cc48a9daff5436f...|          75|\n+----+---+--------------------+------------+\n\n+--------------------+-----------+------------+\n|          product_id|preco_medio|total_vendas|\n+--------------------+-----------+------------+\n|489ae2aa008f02150...|     6735.0|           1|\n|69c590f7ffc7bf8db...|     6729.0|           1|\n|1bdf5e6731585cf01...|     6499.0|           1|\n|a6492cc69376c469a...|     4799.0|           1|\n|c3ed642d592594bb6...|     4690.0|           1|\n|259037a6a41845e45...|     4590.0|           1|\n|a1beef8f3992dbd4c...|    4399.87|           1|\n|6cdf8fc1d741c7658...|    4099.99|           1|\n|6902c1962dd19d540...|     3999.9|           1|\n|4ca7b91a31637bd24...|     3999.0|           2|\n+--------------------+-----------+------------+\n\n+--------------------+-----------------+\n|          product_id|   variacao_preco|\n+--------------------+-----------------+\n|8b502ca34e28d3060...|999.0999999999999|\n|fd8a5b9a8a79d7ba0...|            783.0|\n|5237739bb5fee495d...|            740.0|\n|ba3fea9ec13fb882d...|715.0999999999999|\n|ba16581014183c841...|           660.99|\n|a7c87b1bbdd51e0d6...|           650.01|\n|18209df52bc87a69b...|           519.01|\n|68f3adaef1620e7b0...|           497.35|\n|4cce3fa9fee9eb236...|            461.0|\n|d6160fb7873f18409...|           449.99|\n+--------------------+-----------------+\n\n+---------------------+------------+\n|product_category_name|total_vendas|\n+---------------------+------------+\n|      cama_mesa_banho|       11988|\n|         beleza_saude|       10029|\n|        esporte_lazer|        9004|\n|     moveis_decoracao|        8832|\n| informatica_acess...|        8150|\n| utilidades_domest...|        7380|\n|   relogios_presentes|        6213|\n|            telefonia|        4726|\n|   ferramentas_jardim|        4590|\n|           automotivo|        4400|\n+---------------------+------------+\n\n+--------------------+------------------+------------+\n|          product_id|       preco_medio|total_vendas|\n+--------------------+------------------+------------+\n|aca2eb7d00ea1a7b8...| 71.35858208955212|         536|\n|99a4788cb24856965...|  88.2114772727271|         528|\n|422879e10f4668299...| 54.82602362204717|         508|\n|389d119b48cf3043d...|  54.6334729064039|         406|\n|368c6c730842d7801...| 54.27412060301504|         398|\n|53759a2ecddad2bb8...|54.707672634271084|         391|\n|154e7e31ebfa09220...| 22.52559322033899|         295|\n|2b4609f8948be1887...| 87.37116363636352|         275|\n|53b36df67ebb7c415...|106.98195999999996|         250|\n|7c1bd920dbdf22470...| 59.96933884297512|         242|\n+--------------------+------------------+------------+\n\n"
     ]
    }
   ],
   "source": [
    "# Registrar tabelas temporárias\n",
    "df_customers_gold.createOrReplaceTempView(\"customers_gold\")\n",
    "df_order_items_gold.createOrReplaceTempView(\"order_items_gold\")\n",
    "df_orders_gold.createOrReplaceTempView(\"orders_gold\")\n",
    "df_products_gold.createOrReplaceTempView(\"products_gold\")\n",
    "df_sellers_gold.createOrReplaceTempView(\"sellers_gold\")\n",
    "df_fato_vendas.createOrReplaceTempView(\"fato_vendas\")\n",
    "\n",
    "# Verificar se as consultas SQL retornam dados\n",
    "tendencias_por_regiao = spark.sql(\"\"\"\n",
    "SELECT \n",
    "    customer_region,\n",
    "    product_id,\n",
    "    COUNT(order_id) AS total_vendas,\n",
    "    SUM(price) AS total_receita\n",
    "FROM \n",
    "    fato_vendas\n",
    "GROUP BY \n",
    "    customer_region, product_id\n",
    "ORDER BY \n",
    "    total_vendas DESC\n",
    "LIMIT 10\n",
    "\"\"\")\n",
    "tendencias_por_regiao.show()\n",
    "\n",
    "demanda_por_periodo = spark.sql(\"\"\"\n",
    "SELECT \n",
    "    YEAR(order_purchase_timestamp) AS ano,\n",
    "    MONTH(order_purchase_timestamp) AS mes,\n",
    "    product_id,\n",
    "    COUNT(order_id) AS total_vendas\n",
    "FROM \n",
    "    fato_vendas\n",
    "GROUP BY \n",
    "    ano, mes, product_id\n",
    "ORDER BY \n",
    "    total_vendas DESC\n",
    "LIMIT 10\n",
    "\"\"\")\n",
    "demanda_por_periodo.show()\n",
    "\n",
    "correlacao_preco_demanda = spark.sql(\"\"\"\n",
    "SELECT \n",
    "    product_id,\n",
    "    AVG(price) AS preco_medio,\n",
    "    COUNT(order_id) AS total_vendas\n",
    "FROM \n",
    "    fato_vendas\n",
    "GROUP BY \n",
    "    product_id\n",
    "ORDER BY \n",
    "    preco_medio DESC\n",
    "LIMIT 10\n",
    "\"\"\")\n",
    "correlacao_preco_demanda.show()\n",
    "\n",
    "variacao_preco = spark.sql(\"\"\"\n",
    "SELECT \n",
    "    product_id,\n",
    "    MAX(price) - MIN(price) AS variacao_preco\n",
    "FROM \n",
    "    fato_vendas\n",
    "GROUP BY \n",
    "    product_id\n",
    "ORDER BY \n",
    "    variacao_preco DESC\n",
    "LIMIT 10\n",
    "\"\"\")\n",
    "variacao_preco.show()\n",
    "\n",
    "categorias_populares = spark.sql(\"\"\"\n",
    "SELECT \n",
    "    p.product_category_name,\n",
    "    COUNT(f.order_id) AS total_vendas\n",
    "FROM \n",
    "    fato_vendas f\n",
    "JOIN \n",
    "    products_gold p ON f.product_id = p.product_id\n",
    "GROUP BY \n",
    "    p.product_category_name\n",
    "ORDER BY \n",
    "    total_vendas DESC\n",
    "LIMIT 10\n",
    "\"\"\")\n",
    "categorias_populares.show()\n",
    "\n",
    "promocoes_descontos = spark.sql(\"\"\"\n",
    "SELECT \n",
    "    product_id,\n",
    "    AVG(price) AS preco_medio,\n",
    "    COUNT(order_id) AS total_vendas\n",
    "FROM \n",
    "    fato_vendas\n",
    "WHERE \n",
    "    price < (SELECT AVG(price) FROM fato_vendas)\n",
    "GROUP BY \n",
    "    product_id\n",
    "ORDER BY \n",
    "    total_vendas DESC\n",
    "LIMIT 10\n",
    "\"\"\")\n",
    "promocoes_descontos.show()\n"
   ]
  },
  {
   "cell_type": "code",
   "execution_count": 0,
   "metadata": {
    "application/vnd.databricks.v1+cell": {
     "cellMetadata": {
      "byteLimit": 2048000,
      "rowLimit": 10000
     },
     "inputWidgets": {},
     "nuid": "e08f730d-a271-46da-ab22-85aac8e932d3",
     "showTitle": false,
     "tableResultSettingsMap": {},
     "title": ""
    }
   },
   "outputs": [],
   "source": [
    "# Função para salvar DataFrame em CSV\n",
    "def salvar_em_csv(df, path):\n",
    "    temp_path = \"/tmp\" + path\n",
    "    df.coalesce(1).write.mode(\"overwrite\").option(\"header\", \"true\").csv(temp_path)\n",
    "    files = dbutils.fs.ls(temp_path)\n",
    "    for file in files:\n",
    "        if file.name.endswith(\".csv\"):\n",
    "            dbutils.fs.mv(file.path, path)\n",
    "    dbutils.fs.rm(temp_path, recurse=True)\n",
    "\n",
    "# Exportar os dados para CSV\n",
    "salvar_em_csv(tendencias_por_regiao, \"/FileStore/tables/tendencias_por_regiao.csv\")\n",
    "salvar_em_csv(demanda_por_periodo, \"/FileStore/tables/demanda_por_periodo.csv\")\n",
    "salvar_em_csv(correlacao_preco_demanda, \"/FileStore/tables/correlacao_preco_demanda.csv\")\n",
    "salvar_em_csv(variacao_preco, \"/FileStore/tables/variacao_preco.csv\")\n",
    "salvar_em_csv(categorias_populares, \"/FileStore/tables/categorias_populares.csv\")\n",
    "salvar_em_csv(promocoes_descontos, \"/FileStore/tables/promocoes_descontos.csv\")\n"
   ]
  },
  {
   "cell_type": "code",
   "execution_count": 0,
   "metadata": {
    "application/vnd.databricks.v1+cell": {
     "cellMetadata": {
      "byteLimit": 2048000,
      "rowLimit": 10000
     },
     "inputWidgets": {},
     "nuid": "e4d5d099-bf6c-41ab-b03a-09dcb4d9e100",
     "showTitle": false,
     "tableResultSettingsMap": {},
     "title": ""
    }
   },
   "outputs": [
    {
     "output_type": "display_data",
     "data": {
      "text/html": [
       "<style scoped>\n",
       "  .table-result-container {\n",
       "    max-height: 300px;\n",
       "    overflow: auto;\n",
       "  }\n",
       "  table, th, td {\n",
       "    border: 1px solid black;\n",
       "    border-collapse: collapse;\n",
       "  }\n",
       "  th, td {\n",
       "    padding: 5px;\n",
       "  }\n",
       "  th {\n",
       "    text-align: left;\n",
       "  }\n",
       "</style><div class='table-result-container'><table class='table-result'><thead style='background-color: white'><tr><th>path</th><th>name</th><th>size</th><th>modificationTime</th></tr></thead><tbody><tr><td>dbfs:/FileStore/tables/categorias_populares.csv</td><td>categorias_populares.csv</td><td>251</td><td>1743576951000</td></tr><tr><td>dbfs:/FileStore/tables/correlacao_preco_demanda.csv</td><td>correlacao_preco_demanda.csv</td><td>458</td><td>1743576941000</td></tr><tr><td>dbfs:/FileStore/tables/demanda_por_periodo.csv</td><td>demanda_por_periodo.csv</td><td>467</td><td>1743576935000</td></tr><tr><td>dbfs:/FileStore/tables/promocoes_descontos.csv</td><td>promocoes_descontos.csv</td><td>586</td><td>1743576958000</td></tr><tr><td>dbfs:/FileStore/tables/tendencias_por_regiao.csv</td><td>tendencias_por_regiao.csv</td><td>688</td><td>1743576930000</td></tr><tr><td>dbfs:/FileStore/tables/variacao_preco.csv</td><td>variacao_preco.csv</td><td>445</td><td>1743576946000</td></tr></tbody></table></div>"
      ]
     },
     "metadata": {
      "application/vnd.databricks.v1+output": {
       "addedWidgets": {},
       "aggData": [],
       "aggError": "",
       "aggOverflow": false,
       "aggSchema": [],
       "aggSeriesLimitReached": false,
       "aggType": "",
       "arguments": {},
       "columnCustomDisplayInfos": {},
       "data": [
        [
         "dbfs:/FileStore/tables/categorias_populares.csv",
         "categorias_populares.csv",
         251,
         1743576951000
        ],
        [
         "dbfs:/FileStore/tables/correlacao_preco_demanda.csv",
         "correlacao_preco_demanda.csv",
         458,
         1743576941000
        ],
        [
         "dbfs:/FileStore/tables/demanda_por_periodo.csv",
         "demanda_por_periodo.csv",
         467,
         1743576935000
        ],
        [
         "dbfs:/FileStore/tables/promocoes_descontos.csv",
         "promocoes_descontos.csv",
         586,
         1743576958000
        ],
        [
         "dbfs:/FileStore/tables/tendencias_por_regiao.csv",
         "tendencias_por_regiao.csv",
         688,
         1743576930000
        ],
        [
         "dbfs:/FileStore/tables/variacao_preco.csv",
         "variacao_preco.csv",
         445,
         1743576946000
        ]
       ],
       "datasetInfos": [],
       "dbfsResultPath": null,
       "isJsonSchema": true,
       "metadata": {},
       "overflow": false,
       "plotOptions": {
        "customPlotOptions": {},
        "displayType": "table",
        "pivotAggregation": null,
        "pivotColumns": null,
        "xColumns": null,
        "yColumns": null
       },
       "removedWidgets": [],
       "schema": [
        {
         "metadata": "{}",
         "name": "path",
         "type": "\"string\""
        },
        {
         "metadata": "{}",
         "name": "name",
         "type": "\"string\""
        },
        {
         "metadata": "{}",
         "name": "size",
         "type": "\"long\""
        },
        {
         "metadata": "{}",
         "name": "modificationTime",
         "type": "\"long\""
        }
       ],
       "type": "table"
      }
     },
     "output_type": "display_data"
    },
    {
     "output_type": "stream",
     "name": "stdout",
     "output_type": "stream",
     "text": [
      "+---------------+--------------------+------------+------------------+\n|customer_region|          product_id|total_vendas|     total_receita|\n+---------------+--------------------+------------+------------------+\n|        Sudeste|99a4788cb24856965...|         400| 35211.27999999995|\n|        Sudeste|aca2eb7d00ea1a7b8...|         377|26886.599999999973|\n|        Sudeste|422879e10f4668299...|         345|18874.700000000008|\n|        Sudeste|389d119b48cf3043d...|         267| 14630.99000000001|\n|        Sudeste|53759a2ecddad2bb8...|         259|14124.600000000011|\n|        Sudeste|368c6c730842d7801...|         254| 13691.20000000001|\n|        Sudeste|d1c427060a0f73f6b...|         247| 34470.90999999998|\n|        Sudeste|53b36df67ebb7c415...|         232| 27251.95999999999|\n|        Sudeste|154e7e31ebfa09220...|         184| 4138.160000000001|\n|        Sudeste|2b4609f8948be1887...|         180|15728.109999999982|\n+---------------+--------------------+------------+------------------+\n\n"
     ]
    }
   ],
   "source": [
    "# Listar os arquivos no diretório /FileStore/tables/\n",
    "display(dbutils.fs.ls(\"/FileStore/tables/\"))\n",
    "\n",
    "# Verificar o conteúdo do arquivo CSV\n",
    "df_tendencias_por_regiao_csv = spark.read.csv(\"/FileStore/tables/tendencias_por_regiao.csv\", header=True, inferSchema=True)\n",
    "df_tendencias_por_regiao_csv.show()\n"
   ]
  }
 ],
 "metadata": {
  "application/vnd.databricks.v1+notebook": {
   "computePreferences": null,
   "dashboards": [],
   "environmentMetadata": {
    "base_environment": "",
    "environment_version": "1"
   },
   "inputWidgetPreferences": null,
   "language": "python",
   "notebookMetadata": {
    "pythonIndentUnit": 4
   },
   "notebookName": "MVP2 - Engenharia de dados",
   "widgets": {}
  }
 },
 "nbformat": 4,
 "nbformat_minor": 0
}